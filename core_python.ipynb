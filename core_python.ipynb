{
 "cells": [
  {
   "cell_type": "markdown",
   "id": "79ce8d1f",
   "metadata": {},
   "source": [
    "#### Loops"
   ]
  },
  {
   "cell_type": "markdown",
   "id": "3582fa9b",
   "metadata": {},
   "source": [
    "##### For loops\n"
   ]
  },
  {
   "cell_type": "code",
   "execution_count": 6,
   "id": "01975f25",
   "metadata": {},
   "outputs": [
    {
     "data": {
      "text/plain": [
       "[40, 45, 66, 78, 89, 39]"
      ]
     },
     "execution_count": 6,
     "metadata": {},
     "output_type": "execute_result"
    }
   ],
   "source": [
    "marks_list = [40,45,66,78,89,39]\n",
    "marks_list"
   ]
  },
  {
   "cell_type": "code",
   "execution_count": 7,
   "id": "7e8f140c",
   "metadata": {},
   "outputs": [
    {
     "name": "stdout",
     "output_type": "stream",
     "text": [
      "Second class\n",
      "Second class\n",
      "first class \n",
      "first class \n",
      "Passed with distinction\n",
      "Failed\n"
     ]
    }
   ],
   "source": [
    "for marks in marks_list :\n",
    "    if marks >= 80 :\n",
    "        print('Passed with distinction')\n",
    "    elif marks >= 60: #and marks < 80 it comes here only first condi false where marks are less than 80 :\n",
    "        print(\"first class \")\n",
    "    elif marks >= 40 : #and marks < 60, thats why we dont need this 2nd condition:\n",
    "        print('Second class')\n",
    "    else :\n",
    "        print ('Failed')"
   ]
  },
  {
   "cell_type": "markdown",
   "id": "023c6f02",
   "metadata": {},
   "source": [
    "#### Exercises\n"
   ]
  },
  {
   "cell_type": "code",
   "execution_count": 9,
   "id": "b5c7534f",
   "metadata": {},
   "outputs": [],
   "source": [
    "#You have a list of numbers [5, 10, 15, 20, 25].\n",
    "#👉 Print each number one by one.\n",
    "num_lst = [5, 10, 15, 20, 25]"
   ]
  },
  {
   "cell_type": "code",
   "execution_count": 10,
   "id": "c816b8c6",
   "metadata": {},
   "outputs": [
    {
     "name": "stdout",
     "output_type": "stream",
     "text": [
      "5\n",
      "10\n",
      "15\n",
      "20\n",
      "25\n"
     ]
    }
   ],
   "source": [
    "for num in num:\n",
    "    print(num)"
   ]
  },
  {
   "cell_type": "code",
   "execution_count": 11,
   "id": "eecaba71",
   "metadata": {},
   "outputs": [],
   "source": [
    "# Exercise 2\n",
    "# You have a list [2, 4, 6, 8, 10].\n",
    "# 👉 Print the square of each number."
   ]
  },
  {
   "cell_type": "code",
   "execution_count": 13,
   "id": "8ec8eec9",
   "metadata": {},
   "outputs": [
    {
     "name": "stdout",
     "output_type": "stream",
     "text": [
      "25\n",
      "100\n",
      "225\n",
      "400\n",
      "625\n"
     ]
    }
   ],
   "source": [
    "for num in num_lst:\n",
    "    print(num * num)\n",
    "    "
   ]
  },
  {
   "cell_type": "code",
   "execution_count": null,
   "id": "cd494390",
   "metadata": {},
   "outputs": [],
   "source": [
    "# Exercise 3\n",
    "# You have a list [3, 6, 9, 12, 15, 18].\n",
    "# 👉 Print only the numbers that are divisible by 3."
   ]
  },
  {
   "cell_type": "code",
   "execution_count": 19,
   "id": "1c65ba7b",
   "metadata": {},
   "outputs": [
    {
     "name": "stdout",
     "output_type": "stream",
     "text": [
      "3\n",
      "6\n",
      "9\n",
      "12\n",
      "15\n",
      "18\n"
     ]
    }
   ],
   "source": [
    "num_lst = [3, 6, 9, 12, 15,18]\n",
    "for num in num_lst:\n",
    "    if num%3==0:\n",
    "        print(num)\n",
    "    "
   ]
  },
  {
   "cell_type": "code",
   "execution_count": null,
   "id": "536f7492",
   "metadata": {},
   "outputs": [],
   "source": [
    "# Exercise 4\n",
    "\n",
    "# You have a list [1, 2, 3, 4, 5, 6].\n",
    "# 👉 For each number, print whether it is even or odd."
   ]
  },
  {
   "cell_type": "code",
   "execution_count": 22,
   "id": "5c731257",
   "metadata": {},
   "outputs": [
    {
     "name": "stdout",
     "output_type": "stream",
     "text": [
      "1 odd\n",
      "2 even\n",
      "3 odd\n",
      "4 even\n",
      "5 odd\n",
      "6 even\n"
     ]
    }
   ],
   "source": [
    "num_lst = [1, 2, 3, 4, 5, 6]\n",
    "for num in num_lst:\n",
    "    if num %2 ==0:\n",
    "        print(num ,'even')\n",
    "    else :\n",
    "        print(num , 'odd')"
   ]
  },
  {
   "cell_type": "code",
   "execution_count": null,
   "id": "8232363e",
   "metadata": {},
   "outputs": [],
   "source": [
    "# Exercise 5\n",
    "\n",
    "# You have a list of marks [35, 45, 55, 65, 85].\n",
    "# 👉 For each mark, print whether the student Failed, got Second class, First class, or Distinction."
   ]
  },
  {
   "cell_type": "code",
   "execution_count": 24,
   "id": "523bed99",
   "metadata": {},
   "outputs": [
    {
     "name": "stdout",
     "output_type": "stream",
     "text": [
      "Second class\n",
      "Second class\n",
      "first class \n",
      "first class \n",
      "Passed with distinction\n",
      "Failed\n"
     ]
    }
   ],
   "source": [
    "marks_lst = [35, 45, 55, 65, 85]\n",
    "for marks in marks_list :\n",
    "    if marks >= 80 :\n",
    "        print('Passed with distinction')\n",
    "    elif marks >= 60: #and marks < 80 it comes here only first condi false where marks are less than 80 :\n",
    "        print(\"first class \")\n",
    "    elif marks >= 40 : #and marks < 60, thats why we dont need this 2nd condition:\n",
    "        print('Second class')\n",
    "    else :\n",
    "        print ('Failed')"
   ]
  },
  {
   "cell_type": "code",
   "execution_count": null,
   "id": "fe7572c4",
   "metadata": {},
   "outputs": [],
   "source": []
  },
  {
   "cell_type": "code",
   "execution_count": null,
   "id": "64165193",
   "metadata": {},
   "outputs": [],
   "source": [
    "# 6. Exercise 6\n",
    "\n",
    "# You have a list of numbers [10, 20, 30, 40, 50].\n",
    "# 👉 Find the sum of all numbers in the list."
   ]
  },
  {
   "cell_type": "code",
   "execution_count": 34,
   "id": "f03226f0",
   "metadata": {},
   "outputs": [
    {
     "name": "stdout",
     "output_type": "stream",
     "text": [
      "150\n"
     ]
    }
   ],
   "source": [
    "num_lst = [ 10, 20, 30, 40, 50]\n",
    "total = 0\n",
    "\n",
    "for num in num_lst:\n",
    "    total += num\n",
    "print(total)\n"
   ]
  },
  {
   "cell_type": "code",
   "execution_count": 36,
   "id": "cdfdf4cd",
   "metadata": {},
   "outputs": [],
   "source": [
    "# Exercise 7\n",
    "\n",
    "# You have a list [12, 45, 7, 89, 23, 67].\n",
    "# 👉 Find the largest number in the list."
   ]
  },
  {
   "cell_type": "code",
   "execution_count": 49,
   "id": "823a6b20",
   "metadata": {},
   "outputs": [
    {
     "name": "stdout",
     "output_type": "stream",
     "text": [
      "97\n"
     ]
    }
   ],
   "source": [
    "num_lst = [12, 45, 7, 89, 23, 67, 97]\n",
    "largest_num = 0\n",
    "for num in num_lst :\n",
    "    if num > largest_num :\n",
    "        largest_num = num\n",
    "print(largest_num) "
   ]
  },
  {
   "cell_type": "code",
   "execution_count": 48,
   "id": "bd7723f0",
   "metadata": {},
   "outputs": [
    {
     "data": {
      "text/plain": [
       "89"
      ]
     },
     "execution_count": 48,
     "metadata": {},
     "output_type": "execute_result"
    }
   ],
   "source": [
    "largest_num"
   ]
  },
  {
   "cell_type": "code",
   "execution_count": null,
   "id": "71432337",
   "metadata": {},
   "outputs": [],
   "source": [
    "# 🔹 Exercise 8\n",
    "\n",
    "# You have a list [4, 9, 16, 25, 36].\n",
    "# 👉 Create a new list that contains the square roots of these numbers."
   ]
  },
  {
   "cell_type": "code",
   "execution_count": null,
   "id": "7da6dcdf",
   "metadata": {},
   "outputs": [
    {
     "data": {
      "text/plain": [
       "[2.0, 3.0, 4.0, 5.0, 6.0]"
      ]
     },
     "execution_count": 52,
     "metadata": {},
     "output_type": "execute_result"
    }
   ],
   "source": [
    "num_lst = [4, 9, 16, 25, 36]\n",
    "sq_lst=[]\n",
    "for num in num_lst:\n",
    "    sq_lst.append(num**0.5)\n",
    "sq_lst"
   ]
  },
  {
   "cell_type": "code",
   "execution_count": null,
   "id": "93e0c56e",
   "metadata": {},
   "outputs": [],
   "source": [
    "# 🔹 Exercise 9\n",
    "\n",
    "# You have a list [2, 5, 8, 11, 14, 17].\n",
    "# 👉 Print only the numbers that are greater than 10."
   ]
  },
  {
   "cell_type": "code",
   "execution_count": 54,
   "id": "6857de97",
   "metadata": {},
   "outputs": [
    {
     "name": "stdout",
     "output_type": "stream",
     "text": [
      "11\n",
      "14\n",
      "17\n"
     ]
    }
   ],
   "source": [
    "num_lst = [2, 5, 8, 11, 14, 17]\n",
    "largest_num = 10\n",
    "for num in num_lst:\n",
    "    if largest_num < num :\n",
    "        print(num)"
   ]
  },
  {
   "cell_type": "code",
   "execution_count": null,
   "id": "560266d5",
   "metadata": {},
   "outputs": [],
   "source": [
    "# Exercise 10\n",
    "\n",
    "# You have a list of words [\"apple\", \"banana\", \"grapes\", \"kiwi\", \"orange\"].\n",
    "# 👉 Print only the words that have more than 5 letters."
   ]
  },
  {
   "cell_type": "code",
   "execution_count": null,
   "id": "909d0a6a",
   "metadata": {},
   "outputs": [],
   "source": [
    "words_lst = [\"apple\", \"banana\", \"grapes\", \"kiwi\", \"orange\"]\n",
    "for word in words_lst:\n",
    "    if wor.count(word)>5:\n",
    "        print(word)"
   ]
  },
  {
   "cell_type": "markdown",
   "id": "a7cefc0f-8103-4b7d-b87b-17625fb2b3f4",
   "metadata": {},
   "source": [
    "#### For Loops\n"
   ]
  },
  {
   "cell_type": "code",
   "execution_count": 20,
   "id": "3265bbdf-fea2-4b21-9e3b-4f4dd8b81d90",
   "metadata": {},
   "outputs": [
    {
     "name": "stdout",
     "output_type": "stream",
     "text": [
      "*\n",
      "**\n",
      "***\n",
      "****\n"
     ]
    }
   ],
   "source": [
    "\n",
    "for i in range(1,5):\n",
    "    print('*'*i)"
   ]
  },
  {
   "cell_type": "markdown",
   "id": "cfa4a6ba-3fcd-452e-b924-609bdbf0c523",
   "metadata": {},
   "source": [
    "##### While Loop"
   ]
  },
  {
   "cell_type": "code",
   "execution_count": 3,
   "id": "6e6848bb-0c48-4c46-9a05-58822ff800c4",
   "metadata": {},
   "outputs": [
    {
     "name": "stdout",
     "output_type": "stream",
     "text": [
      "0\n",
      "1\n",
      "2\n"
     ]
    }
   ],
   "source": [
    "cnt = 0\n",
    "while cnt<3:\n",
    "    print(cnt)\n",
    "    cnt += 1\n",
    "    "
   ]
  },
  {
   "cell_type": "markdown",
   "id": "d8e262b5-a870-4475-93b4-1eb2f6a40b22",
   "metadata": {},
   "source": [
    "##### Break statement"
   ]
  },
  {
   "cell_type": "code",
   "execution_count": 4,
   "id": "355767aa-34dd-48e2-855e-0f9f08f6d035",
   "metadata": {},
   "outputs": [
    {
     "name": "stdout",
     "output_type": "stream",
     "text": [
      "1\n",
      "going back\n",
      "2\n",
      "going back\n",
      "3\n",
      "going back\n",
      "4\n",
      "going back\n",
      "5\n",
      "outside loop\n"
     ]
    }
   ],
   "source": [
    "cnt = 0\n",
    "while True:\n",
    "    cnt += 1\n",
    "    print(cnt)\n",
    "\n",
    "    if cnt == 5:\n",
    "        break\n",
    "    print ('going back')\n",
    "print('outside loop')"
   ]
  },
  {
   "cell_type": "markdown",
   "id": "04eb540d-3ef6-48cc-8961-966a0faa3137",
   "metadata": {},
   "source": [
    "##### Jackpot"
   ]
  },
  {
   "cell_type": "code",
   "execution_count": 6,
   "id": "63a2d69e-d5b5-45c3-a09d-7b95b94e6184",
   "metadata": {},
   "outputs": [],
   "source": [
    "import numpy as np"
   ]
  },
  {
   "cell_type": "code",
   "execution_count": 14,
   "id": "a3facd40-f349-42da-a56b-d13388226b63",
   "metadata": {},
   "outputs": [
    {
     "name": "stdin",
     "output_type": "stream",
     "text": [
      "Enter the number:  11\n"
     ]
    },
    {
     "name": "stdout",
     "output_type": "stream",
     "text": [
      "choose number between 1-6\n"
     ]
    },
    {
     "name": "stdin",
     "output_type": "stream",
     "text": [
      "Enter the number:  4\n"
     ]
    },
    {
     "name": "stdout",
     "output_type": "stream",
     "text": [
      "Yay! you won the Jackpot!\n"
     ]
    }
   ],
   "source": [
    "while True:\n",
    "    num = np.random.randint(1,6)\n",
    "    x = int(input('Enter the number: '))\n",
    "    if x < 6:\n",
    "        \n",
    "        if x == num:\n",
    "            print('Yay! you won the Jackpot!')\n",
    "            break\n",
    "        else :\n",
    "            print('Sorry! Try again.')\n",
    "    else:\n",
    "        print('choose number between 1-6')"
   ]
  },
  {
   "cell_type": "code",
   "execution_count": 1,
   "id": "1de6940a-97b5-4233-a610-bd22692252b5",
   "metadata": {},
   "outputs": [],
   "source": [
    "price_lst = [45,50,75,100,35,65,80,25]"
   ]
  },
  {
   "cell_type": "code",
   "execution_count": 18,
   "id": "d2e80fcb-af80-415f-9e9f-f2e9df1ad2a0",
   "metadata": {},
   "outputs": [
    {
     "name": "stdout",
     "output_type": "stream",
     "text": [
      "Total amt is 170\n"
     ]
    }
   ],
   "source": [
    "total = 0\n",
    "for price in price_lst:\n",
    "    total += price\n",
    "    if (total + price)>200:\n",
    "        break\n",
    "print(f'Total amt is {total}')"
   ]
  },
  {
   "cell_type": "markdown",
   "id": "0b7c9e6b-ad13-4fab-9dcf-54dfe232d37d",
   "metadata": {},
   "source": [
    "###### Continue statements"
   ]
  },
  {
   "cell_type": "code",
   "execution_count": 20,
   "id": "86fb6a1f-ab58-4756-b0aa-9c71fe9c0af8",
   "metadata": {},
   "outputs": [
    {
     "name": "stdout",
     "output_type": "stream",
     "text": [
      "Price Rs45. Adding to total....\n",
      "45\n",
      "Price Rs50. Adding to total....\n",
      "95\n",
      "Price Rs.75 Too expensive, skipping....\n",
      "Price Rs.100 Too expensive, skipping....\n",
      "Price Rs35. Adding to total....\n",
      "130\n",
      "Price Rs.65 Too expensive, skipping....\n",
      "Price Rs.80 Too expensive, skipping....\n",
      "Price Rs25. Adding to total....\n",
      "155\n"
     ]
    }
   ],
   "source": [
    "total = 0\n",
    "for price in price_lst:\n",
    "    if price > 50:\n",
    "        print(f'Price Rs.{price} Too expensive, skipping....')\n",
    "        continue\n",
    "    \n",
    "    print(f'Price Rs{price}. Adding to total....')\n",
    "    total = total + price\n",
    "    print(total)\n",
    "    \n",
    "    "
   ]
  },
  {
   "cell_type": "markdown",
   "id": "23369f36-1a69-4a36-a166-32bac776aaa3",
   "metadata": {},
   "source": [
    "##### Functions"
   ]
  },
  {
   "cell_type": "code",
   "execution_count": 36,
   "id": "4b77a986-27ec-4285-908c-f016afe01057",
   "metadata": {},
   "outputs": [],
   "source": [
    "# avoid using the print in the function\n",
    "# paramerter is necessary\n",
    "# def is use to define the function\n",
    "# use return to close the function so that res will print"
   ]
  },
  {
   "cell_type": "code",
   "execution_count": 41,
   "id": "c8d6fb1c-8663-4fd3-81d3-9634aeabde5d",
   "metadata": {},
   "outputs": [],
   "source": [
    "def grades(marks):\n",
    "    if marks >= 80 :\n",
    "       res = 'Passed with distinction'\n",
    "    elif marks >= 60: #and marks < 80 it comes here only first condi false where marks are less than 80 :\n",
    "        res = \"first class \"\n",
    "    elif marks >= 40 : #and marks < 60, thats why we dont need this 2nd condition:\n",
    "        res = 'Second class'\n",
    "    else :\n",
    "        res = 'Failed'\n",
    "    return res\n",
    "    "
   ]
  },
  {
   "cell_type": "code",
   "execution_count": 42,
   "id": "95494bd8-0d91-4ce3-8817-a2231826050c",
   "metadata": {},
   "outputs": [
    {
     "data": {
      "text/plain": [
       "'Passed with distinction'"
      ]
     },
     "execution_count": 42,
     "metadata": {},
     "output_type": "execute_result"
    }
   ],
   "source": [
    "mygrade = grades(90)\n",
    "mygrade"
   ]
  },
  {
   "cell_type": "code",
   "execution_count": 43,
   "id": "8074007d-7710-45d6-9ded-b7d7dd207b3d",
   "metadata": {},
   "outputs": [
    {
     "data": {
      "text/plain": [
       "'Second class'"
      ]
     },
     "execution_count": 43,
     "metadata": {},
     "output_type": "execute_result"
    }
   ],
   "source": [
    "mygrade = grades(55)\n",
    "mygrade"
   ]
  },
  {
   "cell_type": "code",
   "execution_count": 44,
   "id": "d01acd8e-f48b-4fb0-8a5a-1dc730e6b1fd",
   "metadata": {},
   "outputs": [],
   "source": [
    "def avg(x,y):\n",
    "    res = (x+y)/2\n",
    "    return res"
   ]
  },
  {
   "cell_type": "code",
   "execution_count": 45,
   "id": "4c387b70-5035-4503-96a6-3dbf8224f19a",
   "metadata": {},
   "outputs": [
    {
     "data": {
      "text/plain": [
       "39.5"
      ]
     },
     "execution_count": 45,
     "metadata": {},
     "output_type": "execute_result"
    }
   ],
   "source": [
    "avg(45,34)"
   ]
  },
  {
   "cell_type": "code",
   "execution_count": 47,
   "id": "da9a7fc8-6756-4eac-bbb6-a96d48de16b4",
   "metadata": {},
   "outputs": [],
   "source": [
    "# write the function to calculate avg of all numbers\n",
    "price_lst = [45,50,75,100,35,65,80,25]"
   ]
  },
  {
   "cell_type": "code",
   "execution_count": 56,
   "id": "e0a6ef35-22ea-4b58-b12b-01bb93c93f98",
   "metadata": {},
   "outputs": [],
   "source": [
    "def avg(x):\n",
    "    res = sum(x)/len(x)\n",
    "    return res"
   ]
  },
  {
   "cell_type": "code",
   "execution_count": 57,
   "id": "c16daa05-7137-4f32-86bb-a814c586282d",
   "metadata": {},
   "outputs": [
    {
     "data": {
      "text/plain": [
       "59.375"
      ]
     },
     "execution_count": 57,
     "metadata": {},
     "output_type": "execute_result"
    }
   ],
   "source": [
    "avg(price_lst)"
   ]
  },
  {
   "cell_type": "markdown",
   "id": "88dd329f-fb57-4cd3-aa3f-534e783c3068",
   "metadata": {},
   "source": [
    "##### exercise"
   ]
  },
  {
   "cell_type": "raw",
   "id": "72e46246-aa55-438b-944d-a346f7570312",
   "metadata": {},
   "source": [
    "1. write the function to calculate factorial\n",
    "2. print * pattern\n"
   ]
  },
  {
   "cell_type": "code",
   "execution_count": 69,
   "id": "7e22ba2c-519c-43bd-8bc2-d3c005d29c47",
   "metadata": {},
   "outputs": [],
   "source": [
    "#1\n",
    "def factorial(x):\n",
    "    if x <= 1 :\n",
    "        return 1\n",
    "    else :\n",
    "        return x * factorial(x-1)\n",
    "    \n"
   ]
  },
  {
   "cell_type": "code",
   "execution_count": 71,
   "id": "2e87b479-b7eb-4481-98b0-660e89097ef6",
   "metadata": {},
   "outputs": [
    {
     "data": {
      "text/plain": [
       "120"
      ]
     },
     "execution_count": 71,
     "metadata": {},
     "output_type": "execute_result"
    }
   ],
   "source": [
    "factorial(5)"
   ]
  },
  {
   "cell_type": "code",
   "execution_count": 84,
   "id": "f1291486-afbe-4b69-b313-5ea7ab6020c4",
   "metadata": {},
   "outputs": [],
   "source": [
    "def factorial(x):\n",
    "    res = 1\n",
    "    for x in range (1,x+1):\n",
    "        res = res * x\n",
    "    return res"
   ]
  },
  {
   "cell_type": "code",
   "execution_count": 86,
   "id": "b75e1433-8876-4e58-ba92-9cfdb367ab98",
   "metadata": {},
   "outputs": [
    {
     "data": {
      "text/plain": [
       "362880"
      ]
     },
     "execution_count": 86,
     "metadata": {},
     "output_type": "execute_result"
    }
   ],
   "source": [
    "factorial(9)"
   ]
  },
  {
   "cell_type": "code",
   "execution_count": 108,
   "id": "7cdad84f-9f6e-4fa9-b379-9c4bd16d8d5c",
   "metadata": {},
   "outputs": [],
   "source": [
    "def pattern(x):\n",
    "    for i in range(1, x+1):\n",
    "        res = '*'* i + \"\\n\"\n",
    "    return res\n",
    "        \n",
    "    "
   ]
  },
  {
   "cell_type": "code",
   "execution_count": 109,
   "id": "4a527f47-1f79-4974-bdc8-58aaf6fe2a77",
   "metadata": {},
   "outputs": [
    {
     "data": {
      "text/plain": [
       "'*****\\n'"
      ]
     },
     "execution_count": 109,
     "metadata": {},
     "output_type": "execute_result"
    }
   ],
   "source": [
    "pattern(5)"
   ]
  },
  {
   "cell_type": "code",
   "execution_count": null,
   "id": "cc29aa91-23a2-4764-a016-10b8db6a6721",
   "metadata": {},
   "outputs": [],
   "source": []
  },
  {
   "cell_type": "code",
   "execution_count": null,
   "id": "9565cc04-cdb9-46ea-98a1-bda1f65cf477",
   "metadata": {},
   "outputs": [],
   "source": []
  },
  {
   "cell_type": "code",
   "execution_count": null,
   "id": "c207fc9b-2d7c-4c06-b7d7-6a9aa14903e6",
   "metadata": {},
   "outputs": [],
   "source": []
  },
  {
   "cell_type": "markdown",
   "id": "6e5ff872-d624-4e88-8dca-30b30b38e766",
   "metadata": {},
   "source": [
    "##### Advance Exercise"
   ]
  },
  {
   "cell_type": "code",
   "execution_count": null,
   "id": "7c0fc379-8128-476e-b8a4-dcb542caeb6d",
   "metadata": {},
   "outputs": [],
   "source": [
    "# Challenge 1: Sum of even numbers\n",
    "\n",
    "# You have a list [3, 8, 12, 5, 7, 14].\n",
    "# 👉 Find the sum of only the even numbers."
   ]
  },
  {
   "cell_type": "code",
   "execution_count": null,
   "id": "44af5d32-eef8-4f11-aa25-89e7adc1f27d",
   "metadata": {},
   "outputs": [],
   "source": []
  },
  {
   "cell_type": "code",
   "execution_count": null,
   "id": "8c3f5a37-c72d-476f-8f53-93b411d158a7",
   "metadata": {},
   "outputs": [],
   "source": [
    "# Challenge 2: Count vowels\n",
    "\n",
    "# You have a string \"programming\".\n",
    "# 👉 Count how many vowels (a, e, i, o, u) are in it."
   ]
  },
  {
   "cell_type": "code",
   "execution_count": null,
   "id": "021ebd70-f066-4e2e-b39e-22eb47f00183",
   "metadata": {},
   "outputs": [],
   "source": []
  },
  {
   "cell_type": "code",
   "execution_count": null,
   "id": "bb6e1c4c-b204-4509-b90e-710a6c56802c",
   "metadata": {},
   "outputs": [],
   "source": [
    "# Challenge 3: Reverse each word\n",
    "\n",
    "# You have a list [\"hello\", \"world\", \"python\"].\n",
    "# 👉 Print each word reversed (like \"olleh\", \"dlrow\", \"nohtyp\")."
   ]
  },
  {
   "cell_type": "code",
   "execution_count": null,
   "id": "b1ebfd02-783d-4b83-97cd-28c12cd1e6eb",
   "metadata": {},
   "outputs": [],
   "source": []
  },
  {
   "cell_type": "code",
   "execution_count": null,
   "id": "7093ba0c-1c2d-4484-ac63-202808aa1e00",
   "metadata": {},
   "outputs": [],
   "source": [
    "# Challenge 4: Highest marks\n",
    "\n",
    "# You have a dictionary of marks:\n",
    "\n",
    "# marks = {\"Aman\": 55, \"Raj\": 88, \"Simran\": 72, \"Neha\": 95}"
   ]
  },
  {
   "cell_type": "code",
   "execution_count": null,
   "id": "99b84dcb-fa1a-4e65-a596-698d4a6bd82e",
   "metadata": {},
   "outputs": [],
   "source": []
  },
  {
   "cell_type": "code",
   "execution_count": null,
   "id": "b12acc0c-4faf-4513-b7a9-310dbf22a2ce",
   "metadata": {},
   "outputs": [],
   "source": [
    "# Challenge 5: Shopping bill\n",
    "\n",
    "# You have a list of item prices [120, 250, 80, 300].\n",
    "# 👉 Apply a 10% discount on each and print the final prices."
   ]
  }
 ],
 "metadata": {
  "kernelspec": {
   "display_name": "Python 3 (ipykernel)",
   "language": "python",
   "name": "python3"
  },
  "language_info": {
   "codemirror_mode": {
    "name": "ipython",
    "version": 3
   },
   "file_extension": ".py",
   "mimetype": "text/x-python",
   "name": "python",
   "nbconvert_exporter": "python",
   "pygments_lexer": "ipython3",
   "version": "3.12.7"
  }
 },
 "nbformat": 4,
 "nbformat_minor": 5
}
